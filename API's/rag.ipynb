{
 "cells": [
  {
   "cell_type": "code",
   "execution_count": 5,
   "metadata": {},
   "outputs": [
    {
     "name": "stdout",
     "output_type": "stream",
     "text": [
      "Hello world\n"
     ]
    }
   ],
   "source": [
    "print(\"Hello world\")"
   ]
  },
  {
   "cell_type": "code",
   "execution_count": 6,
   "metadata": {},
   "outputs": [],
   "source": [
    "import os\n",
    "from dotenv import load_dotenv\n",
    "\n",
    "load_dotenv()  # Load environment variables from .env file\n",
    "os.environ[\"LANGCHAIN_API_KEY\"] = \"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\"\n"
   ]
  },
  {
   "cell_type": "code",
   "execution_count": 7,
   "metadata": {},
   "outputs": [],
   "source": [
    "import os\n",
    "from langchain_community.document_loaders import PyPDFLoader\n",
    "pdf = PyPDFLoader(\"https://uou.ac.in/sites/default/files/slm/DHA-101.pdf\")"
   ]
  },
  {
   "cell_type": "code",
   "execution_count": 8,
   "metadata": {},
   "outputs": [],
   "source": [
    "pdfpages = pdf.load_and_split(  )"
   ]
  },
  {
   "cell_type": "code",
   "execution_count": 9,
   "metadata": {},
   "outputs": [],
   "source": [
    "from langchain.text_splitter import CharacterTextSplitter\n",
    "from langchain_community.vectorstores import FAISS\n",
    "from langchain_community.llms import Ollama\n",
    "from langchain_community.embeddings import OllamaEmbeddings\n"
   ]
  },
  {
   "cell_type": "code",
   "execution_count": 10,
   "metadata": {},
   "outputs": [],
   "source": [
    "my_books = pdf.load()\n",
    "text_splitter = CharacterTextSplitter(chunk_size=1000,chunk_overlap=5)\n",
    "split_text = text_splitter.split_documents(my_books)\n",
    "llm = Ollama(model=\"llama2\")\n",
    "embeddings = OllamaEmbeddings(model=\"llama2\")\n"
   ]
  },
  {
   "cell_type": "code",
   "execution_count": 11,
   "metadata": {},
   "outputs": [],
   "source": [
    "from langchain.vectorstores.faiss import FAISS\n",
    "vectorstore = FAISS.from_documents(split_text,embeddings)"
   ]
  },
  {
   "cell_type": "code",
   "execution_count": 12,
   "metadata": {},
   "outputs": [
    {
     "data": {
      "text/plain": [
       "<langchain_community.vectorstores.faiss.FAISS at 0x195a788d750>"
      ]
     },
     "execution_count": 12,
     "metadata": {},
     "output_type": "execute_result"
    }
   ],
   "source": [
    "vectorstore"
   ]
  },
  {
   "cell_type": "code",
   "execution_count": 26,
   "metadata": {},
   "outputs": [],
   "source": [
    "vector_retriver = vectorstore.as_retriever()\n",
    "\n",
    "from langchain.agents.agent_toolkits import create_retriever_tool\n",
    "\n",
    "tool = create_retriever_tool(\n",
    "    vector_retriver,\n",
    "    \"Hospitality_Topic_Search\",\n",
    "    \"Retrive Detailed information on the Hospitality Services\"\n",
    "    )\n",
    "\n",
    "tools = [tool]\n",
    "\n",
    "from langchain.agents.agent_toolkits import create_conversational_retrieval_agent\n",
    "\n",
    "myagent = create_conversational_retrieval_agent(llm,tools,verbose=True)"
   ]
  },
  {
   "cell_type": "code",
   "execution_count": 37,
   "metadata": {},
   "outputs": [],
   "source": [
    "contex = \"The user is conducting research on the hospitality services\"\n",
    "question = \"tell me the types of meal plan in hotel?\"\n",
    "\n",
    "prompt = f\"\"\"You need to answer the question in the sentence as same as in the pdf content.\n",
    "Given below is the contex and question of the user.\n",
    "contex = {contex}\n",
    "question = {question}\n",
    "\"\"\""
   ]
  },
  {
   "cell_type": "code",
   "execution_count": 38,
   "metadata": {},
   "outputs": [
    {
     "name": "stdout",
     "output_type": "stream",
     "text": [
      "\n",
      "\n",
      "\u001b[1m> Entering new AgentExecutor chain...\u001b[0m\n",
      "\u001b[32;1m\u001b[1;3mOf course! Here are some common types of meal plans offered in hotels:\n",
      "\n",
      "1. Buffet-style meals: Guests are served a fixed menu of dishes, typically including appetizers, entrees, and desserts.\n",
      "2. A la carte meals: Guests can choose from a variety of dishes, each priced separately.\n",
      "3. Customized meal plans: Some hotels offer guests the option to customize their meals based on dietary restrictions or preferences.\n",
      "4. Specialty meal plans: Some hotels may offer specialty meal plans such as gluten-free, vegetarian, or vegan options.\n",
      "5. Room service meal plans: Some hotels may offer meal plans through their room service option, which allows guests to order meals from the comfort of their own rooms.\n",
      "6. Package deals: Some hotels may offer package deals that include meals as part of the overall stay experience.\n",
      "7. Seasonal meal plans: Some hotels may offer seasonal meal plans that cater to the local ingredients and flavors of a particular region or season.\n",
      "8. Themed meal plans: Some hotels may offer themed meal plans that cater to specific occasions or events, such as holidays or anniversaries.\n",
      "\n",
      "I hope this helps with your research on meal plans in hotels! Let me know if you have any further questions.\u001b[0m\n",
      "\n",
      "\u001b[1m> Finished chain.\u001b[0m\n"
     ]
    }
   ],
   "source": [
    "result = myagent.invoke({\"input\":prompt})"
   ]
  },
  {
   "cell_type": "code",
   "execution_count": null,
   "metadata": {},
   "outputs": [],
   "source": []
  }
 ],
 "metadata": {
  "kernelspec": {
   "display_name": "venv",
   "language": "python",
   "name": "python3"
  },
  "language_info": {
   "codemirror_mode": {
    "name": "ipython",
    "version": 3
   },
   "file_extension": ".py",
   "mimetype": "text/x-python",
   "name": "python",
   "nbconvert_exporter": "python",
   "pygments_lexer": "ipython3",
   "version": "3.11.9"
  }
 },
 "nbformat": 4,
 "nbformat_minor": 2
}
